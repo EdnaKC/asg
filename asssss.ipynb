{
 "cells": [
  {
   "cell_type": "markdown",
   "id": "3c2e90df",
   "metadata": {},
   "source": [
    "### Q1\n",
    "\n",
    "Name the four built-in data structures in python. Give one examples for each\n",
    "LIST numbers_list = [1,2,3,4,5]\n",
    "SET list_numbers = [1,23,3,3,4,5,2,1]\n",
    "DICTIONARY shop = {\"pencil\": 25, \"eraser\": 15, \"ruler\":5}\n",
    "TUPLE L = [3,4,6,7]"
   ]
  },
  {
   "cell_type": "code",
   "execution_count": null,
   "id": "6c0ff9b1",
   "metadata": {},
   "outputs": [],
   "source": []
  },
  {
   "cell_type": "markdown",
   "id": "b6e1dd1b",
   "metadata": {},
   "source": [
    "### Q2\n",
    "\n",
    "State two differences between a list and a tuple in Python.\n",
    "TUPLE IS IMMUTABLE AND ORGANIZED. LISTS ARE MUTABLE AND ORGANIZED"
   ]
  },
  {
   "cell_type": "markdown",
   "id": "815b4e67",
   "metadata": {},
   "source": [
    "### Q3\n",
    "Make a list containing names of five animals with a variable name `animal_list`\n",
    "\n",
    "Write a code for the following:\n",
    "\n",
    "- Print the first two animals\n",
    "- Print the last two animals\n",
    "- Add three extra animals to the variable `animal_list`\n",
    "- Remove the first two animals from the variable `animal_list`\n",
    "- How many animals are in the `animal_list`?\n",
    "\n",
    "- Create a variable animal_set which stores the set of animal_list \n",
    "\n",
    "- How many elements are in the animal_set?\n"
   ]
  },
  {
   "cell_type": "code",
   "execution_count": 3,
   "id": "5cc0adb8",
   "metadata": {},
   "outputs": [
    {
     "data": {
      "text/plain": [
       "['cow', 'cat', 'goat', 'lion', 'sheep']"
      ]
     },
     "execution_count": 3,
     "metadata": {},
     "output_type": "execute_result"
    }
   ],
   "source": [
    "animal_list = [\"cow\",\"cat\",\"goat\",\"lion\",\"sheep\"]\n",
    "animal_list"
   ]
  },
  {
   "cell_type": "code",
   "execution_count": 25,
   "id": "3cb871e0",
   "metadata": {},
   "outputs": [
    {
     "data": {
      "text/plain": [
       "('cow', 'cat')"
      ]
     },
     "execution_count": 25,
     "metadata": {},
     "output_type": "execute_result"
    }
   ],
   "source": [
    "animal_list[0],animal_list[1]"
   ]
  },
  {
   "cell_type": "code",
   "execution_count": 4,
   "id": "e27f7e3a",
   "metadata": {},
   "outputs": [
    {
     "data": {
      "text/plain": [
       "('sheep', 'lion')"
      ]
     },
     "execution_count": 4,
     "metadata": {},
     "output_type": "execute_result"
    }
   ],
   "source": [
    "animal_list[-1],animal_list[-2]"
   ]
  },
  {
   "cell_type": "code",
   "execution_count": 34,
   "id": "2db9d376",
   "metadata": {},
   "outputs": [],
   "source": [
    "animal_list.extend((\"horse\",\"bull\",\"hyena\"))"
   ]
  },
  {
   "cell_type": "code",
   "execution_count": 35,
   "id": "0a9879a5",
   "metadata": {},
   "outputs": [
    {
     "data": {
      "text/plain": [
       "['cow',\n",
       " 'cat',\n",
       " 'goat',\n",
       " 'lion',\n",
       " 'sheep',\n",
       " 'horse',\n",
       " 'horse',\n",
       " 'horse',\n",
       " 'bull',\n",
       " 'hyena']"
      ]
     },
     "execution_count": 35,
     "metadata": {},
     "output_type": "execute_result"
    }
   ],
   "source": [
    "animal_list"
   ]
  },
  {
   "cell_type": "code",
   "execution_count": 38,
   "id": "158d0a95",
   "metadata": {},
   "outputs": [
    {
     "ename": "ValueError",
     "evalue": "list.remove(x): x not in list",
     "output_type": "error",
     "traceback": [
      "\u001b[1;31m---------------------------------------------------------------------------\u001b[0m",
      "\u001b[1;31mValueError\u001b[0m                                Traceback (most recent call last)",
      "\u001b[1;32m~\\AppData\\Local\\Temp\\ipykernel_15164\\725637106.py\u001b[0m in \u001b[0;36m<module>\u001b[1;34m\u001b[0m\n\u001b[1;32m----> 1\u001b[1;33m \u001b[0manimal_list\u001b[0m\u001b[1;33m.\u001b[0m\u001b[0mremove\u001b[0m\u001b[1;33m(\u001b[0m\u001b[1;33m(\u001b[0m\u001b[1;34m\"cow\"\u001b[0m\u001b[1;33m,\u001b[0m\u001b[1;34m\"cat\"\u001b[0m\u001b[1;33m)\u001b[0m\u001b[1;33m)\u001b[0m\u001b[1;33m\u001b[0m\u001b[1;33m\u001b[0m\u001b[0m\n\u001b[0m",
      "\u001b[1;31mValueError\u001b[0m: list.remove(x): x not in list"
     ]
    }
   ],
   "source": [
    "animal_list.remove((\"cow\",\"cat\"))"
   ]
  },
  {
   "cell_type": "code",
   "execution_count": null,
   "id": "c2cc55e3",
   "metadata": {},
   "outputs": [],
   "source": []
  },
  {
   "cell_type": "code",
   "execution_count": 7,
   "id": "1b5f43a9",
   "metadata": {},
   "outputs": [
    {
     "data": {
      "text/plain": [
       "5"
      ]
     },
     "execution_count": 7,
     "metadata": {},
     "output_type": "execute_result"
    }
   ],
   "source": [
    "len(animal_list)"
   ]
  },
  {
   "cell_type": "markdown",
   "id": "113c9970",
   "metadata": {},
   "source": [
    "### Q4\n",
    "\n",
    "Given a list:\n",
    "\n",
    "suitcase = [\"sunglasses\", \"hat\", \"passport\", \"laptop\", \"suit\", \"shoes\"]\n",
    "\n",
    "a. Create a list called first containing only the two first items from suitcase.\n",
    "\n",
    "b. Create a list called middle containing only the two middle items from suitcase.\n",
    "\n",
    "c. Create a list called last made up only of the last two items from suitcase."
   ]
  },
  {
   "cell_type": "code",
   "execution_count": 39,
   "id": "5fc7715c",
   "metadata": {},
   "outputs": [],
   "source": [
    "suitcase = [\"sunglasses\", \"hat\", \"passport\", \"laptop\", \"suit\", \"shoes\"]"
   ]
  },
  {
   "cell_type": "code",
   "execution_count": 49,
   "id": "d45b2ae1",
   "metadata": {},
   "outputs": [
    {
     "data": {
      "text/plain": [
       "list"
      ]
     },
     "execution_count": 49,
     "metadata": {},
     "output_type": "execute_result"
    }
   ],
   "source": [
    "type(suitcase)"
   ]
  },
  {
   "cell_type": "code",
   "execution_count": 56,
   "id": "c6103d85",
   "metadata": {},
   "outputs": [
    {
     "data": {
      "text/plain": [
       "('sunglasses', 'hat')"
      ]
     },
     "execution_count": 56,
     "metadata": {},
     "output_type": "execute_result"
    }
   ],
   "source": [
    "first = suitcase[0],suitcase[1],\n",
    "first\n"
   ]
  },
  {
   "cell_type": "code",
   "execution_count": 59,
   "id": "45aacf74",
   "metadata": {},
   "outputs": [
    {
     "data": {
      "text/plain": [
       "('passport', 'laptop')"
      ]
     },
     "execution_count": 59,
     "metadata": {},
     "output_type": "execute_result"
    }
   ],
   "source": [
    "middle = suitcase[2],suitcase[3]\n",
    "middle"
   ]
  },
  {
   "cell_type": "code",
   "execution_count": 61,
   "id": "cfe84844",
   "metadata": {},
   "outputs": [
    {
     "data": {
      "text/plain": [
       "('passport', 'laptop')"
      ]
     },
     "execution_count": 61,
     "metadata": {},
     "output_type": "execute_result"
    }
   ],
   "source": [
    "last = suitcase[2],suitcase[3]\n",
    "last"
   ]
  },
  {
   "cell_type": "markdown",
   "id": "711ba044",
   "metadata": {},
   "source": [
    "### Q5\n",
    "Write a python code to insert 35 into the list below. Make sure it is inserted in the right position to maintain the order of the data.\n",
    "\n",
    "`values = [20,25,30,40,45,50,55,60,65,70]\n",
    "insert(3,35)`"
   ]
  },
  {
   "cell_type": "code",
   "execution_count": 8,
   "id": "8491995d",
   "metadata": {},
   "outputs": [
    {
     "ename": "NameError",
     "evalue": "name 'insert' is not defined",
     "output_type": "error",
     "traceback": [
      "\u001b[1;31m---------------------------------------------------------------------------\u001b[0m",
      "\u001b[1;31mNameError\u001b[0m                                 Traceback (most recent call last)",
      "\u001b[1;32m~\\AppData\\Local\\Temp\\ipykernel_15164\\4052315508.py\u001b[0m in \u001b[0;36m<module>\u001b[1;34m\u001b[0m\n\u001b[0;32m      1\u001b[0m \u001b[0mvalues\u001b[0m \u001b[1;33m=\u001b[0m \u001b[1;33m[\u001b[0m\u001b[1;36m20\u001b[0m\u001b[1;33m,\u001b[0m\u001b[1;36m25\u001b[0m\u001b[1;33m,\u001b[0m\u001b[1;36m30\u001b[0m\u001b[1;33m,\u001b[0m\u001b[1;36m40\u001b[0m\u001b[1;33m,\u001b[0m\u001b[1;36m45\u001b[0m\u001b[1;33m,\u001b[0m\u001b[1;36m50\u001b[0m\u001b[1;33m,\u001b[0m\u001b[1;36m55\u001b[0m\u001b[1;33m,\u001b[0m\u001b[1;36m60\u001b[0m\u001b[1;33m,\u001b[0m\u001b[1;36m65\u001b[0m\u001b[1;33m,\u001b[0m\u001b[1;36m70\u001b[0m\u001b[1;33m]\u001b[0m\u001b[1;33m\u001b[0m\u001b[1;33m\u001b[0m\u001b[0m\n\u001b[1;32m----> 2\u001b[1;33m \u001b[0minsert\u001b[0m\u001b[1;33m(\u001b[0m\u001b[1;36m3\u001b[0m\u001b[1;33m,\u001b[0m\u001b[1;36m35\u001b[0m\u001b[1;33m)\u001b[0m\u001b[1;33m\u001b[0m\u001b[1;33m\u001b[0m\u001b[0m\n\u001b[0m",
      "\u001b[1;31mNameError\u001b[0m: name 'insert' is not defined"
     ]
    }
   ],
   "source": [
    "values = [20,25,30,40,45,50,55,60,65,70]\n",
    "insert(3,35)"
   ]
  },
  {
   "cell_type": "code",
   "execution_count": null,
   "id": "abbb8bdd",
   "metadata": {},
   "outputs": [],
   "source": []
  },
  {
   "cell_type": "markdown",
   "id": "f535cf64",
   "metadata": {},
   "source": [
    "### Q6\n",
    "\n",
    "Given that Python lists and Python tuples are quite similar – when might you prefer to use a tuple over a list?\n",
    "YOU USE A TUPLE WHEN THE DATA WONT BE CHANGED"
   ]
  },
  {
   "cell_type": "markdown",
   "id": "346927f6",
   "metadata": {},
   "source": [
    "### Q7\n",
    "Create a dictionary with 5 Ghana regions and their capitals and store it in the variable `region_capital`\n",
    "\n",
    "\n",
    "\n",
    "- Print out the keys of region_capital\n",
    "\n",
    "\n",
    "- Print out the values of region_capital\n",
    "region_capital.values()"
   ]
  },
  {
   "cell_type": "code",
   "execution_count": 9,
   "id": "160554d0",
   "metadata": {},
   "outputs": [],
   "source": [
    "region_capital = {\"upper west\" : \"wa\", \"upper east\" : \"bolga\",\"volta\" : \"ho\",\"ahafo\": \"sunyani\",\"ashanti\": \"kumasi\"}"
   ]
  },
  {
   "cell_type": "code",
   "execution_count": 10,
   "id": "74fce4c8",
   "metadata": {},
   "outputs": [
    {
     "data": {
      "text/plain": [
       "{'upper west': 'wa',\n",
       " 'upper east': 'bolga',\n",
       " 'volta': 'ho',\n",
       " 'ahafo': 'sunyani',\n",
       " 'ashanti': 'kumasi'}"
      ]
     },
     "execution_count": 10,
     "metadata": {},
     "output_type": "execute_result"
    }
   ],
   "source": [
    "region_capital"
   ]
  },
  {
   "cell_type": "code",
   "execution_count": null,
   "id": "4e4af9f3",
   "metadata": {},
   "outputs": [],
   "source": []
  },
  {
   "cell_type": "code",
   "execution_count": 11,
   "id": "bf8a53fe",
   "metadata": {},
   "outputs": [
    {
     "data": {
      "text/plain": [
       "dict_keys(['upper west', 'upper east', 'volta', 'ahafo', 'ashanti'])"
      ]
     },
     "execution_count": 11,
     "metadata": {},
     "output_type": "execute_result"
    }
   ],
   "source": [
    "region_capital.keys()"
   ]
  },
  {
   "cell_type": "code",
   "execution_count": 12,
   "id": "125fc8b3",
   "metadata": {},
   "outputs": [
    {
     "data": {
      "text/plain": [
       "dict_values(['wa', 'bolga', 'ho', 'sunyani', 'kumasi'])"
      ]
     },
     "execution_count": 12,
     "metadata": {},
     "output_type": "execute_result"
    }
   ],
   "source": [
    "region_capital.values()"
   ]
  },
  {
   "cell_type": "code",
   "execution_count": null,
   "id": "d830a13e",
   "metadata": {},
   "outputs": [],
   "source": []
  },
  {
   "cell_type": "markdown",
   "id": "70526b3b",
   "metadata": {},
   "source": [
    "### Q8\n",
    "\n",
    "`values = [3,4,5,6,3,4,3,5,2,4,2,5,6,1,6]`\n",
    "\n",
    "Using the codes above answer the following questions:\n",
    "- What is the total number of elements in values?\n",
    "\n",
    "- What is the highest occuring number in the values variable?\n",
    "\n",
    "\n",
    "- Convert values into a set and store it into a variable named `values_set`\n",
    "\n",
    "\n",
    "- How many elements are in the variable values_set?\n",
    "len(values)"
   ]
  },
  {
   "cell_type": "code",
   "execution_count": 13,
   "id": "b3db02ac",
   "metadata": {},
   "outputs": [],
   "source": [
    "values = [3,4,5,6,3,3,4,3,5,2,4,2,5,6,1,6]"
   ]
  },
  {
   "cell_type": "code",
   "execution_count": 18,
   "id": "75329bfe",
   "metadata": {},
   "outputs": [
    {
     "name": "stdout",
     "output_type": "stream",
     "text": [
      "59\n"
     ]
    }
   ],
   "source": [
    "print(sum(values))"
   ]
  },
  {
   "cell_type": "code",
   "execution_count": 20,
   "id": "69b12c9a",
   "metadata": {},
   "outputs": [
    {
     "name": "stdout",
     "output_type": "stream",
     "text": [
      "6\n"
     ]
    }
   ],
   "source": [
    "print(max(values))"
   ]
  },
  {
   "cell_type": "code",
   "execution_count": 22,
   "id": "7d82fe3e",
   "metadata": {},
   "outputs": [],
   "source": [
    "values_set = set(values)"
   ]
  },
  {
   "cell_type": "code",
   "execution_count": 23,
   "id": "61ad3741",
   "metadata": {},
   "outputs": [
    {
     "data": {
      "text/plain": [
       "set"
      ]
     },
     "execution_count": 23,
     "metadata": {},
     "output_type": "execute_result"
    }
   ],
   "source": [
    "type(values_set)"
   ]
  },
  {
   "cell_type": "code",
   "execution_count": 19,
   "id": "7acce311",
   "metadata": {},
   "outputs": [
    {
     "data": {
      "text/plain": [
       "15"
      ]
     },
     "execution_count": 19,
     "metadata": {},
     "output_type": "execute_result"
    }
   ],
   "source": [
    "len(values)"
   ]
  },
  {
   "cell_type": "markdown",
   "id": "801d5876",
   "metadata": {},
   "source": [
    "### Q9\n",
    "Write a Python script to print a dictionary where the keys are numbers between 1 and 15 (both included) and the values are the square of the keys.\n",
    "\n"
   ]
  },
  {
   "cell_type": "code",
   "execution_count": null,
   "id": "8dd46750",
   "metadata": {},
   "outputs": [],
   "source": []
  },
  {
   "cell_type": "code",
   "execution_count": 53,
   "id": "a397805a",
   "metadata": {},
   "outputs": [
    {
     "ename": "IndentationError",
     "evalue": "unexpected indent (4095880129.py, line 4)",
     "output_type": "error",
     "traceback": [
      "\u001b[1;36m  File \u001b[1;32m\"C:\\Users\\EDNA\\AppData\\Local\\Temp\\ipykernel_15164\\4095880129.py\"\u001b[1;36m, line \u001b[1;32m4\u001b[0m\n\u001b[1;33m    dicts\u001b[0m\n\u001b[1;37m    ^\u001b[0m\n\u001b[1;31mIndentationError\u001b[0m\u001b[1;31m:\u001b[0m unexpected indent\n"
     ]
    }
   ],
   "source": [
    "dicts = {}\n",
    "for j in range(1,16):\n",
    "    dicts[j] = j**2\n",
    "      dicts"
   ]
  },
  {
   "cell_type": "markdown",
   "id": "18954e57",
   "metadata": {},
   "source": [
    "### Q10\n",
    "Write a Python program to create a dictionary of keys x, y, and z where each key has as value a list from 11-20, 21-30, and 31-40 respectively. Access the fifth value of each key from the dictionary."
   ]
  },
  {
   "cell_type": "code",
   "execution_count": 1,
   "id": "fec19820",
   "metadata": {},
   "outputs": [],
   "source": [
    "keys = [x,y,z]\n",
    "diction = {}\n",
    "for key in keys\n",
    " if key =='x'\n",
    "    diction[key] = list(range(11,21))\n",
    "elif key == 'y'\n",
    "    diction[key] = list(range(21,30))\n",
    "elif key== 'z'\n",
    "    diction[key] = list(range(31,40))\n",
    "for key in keys:\n",
    "print(f\"{key} : {diction[key][4]}\")"
   ]
  },
  {
   "cell_type": "code",
   "execution_count": 51,
   "id": "4bbf8ccc",
   "metadata": {},
   "outputs": [],
   "source": []
  },
  {
   "cell_type": "code",
   "execution_count": null,
   "id": "375ebb19",
   "metadata": {},
   "outputs": [],
   "source": []
  }
 ],
 "metadata": {
  "kernelspec": {
   "display_name": "Python 3 (ipykernel)",
   "language": "python",
   "name": "python3"
  },
  "language_info": {
   "codemirror_mode": {
    "name": "ipython",
    "version": 3
   },
   "file_extension": ".py",
   "mimetype": "text/x-python",
   "name": "python",
   "nbconvert_exporter": "python",
   "pygments_lexer": "ipython3",
   "version": "3.9.13"
  }
 },
 "nbformat": 4,
 "nbformat_minor": 5
}
